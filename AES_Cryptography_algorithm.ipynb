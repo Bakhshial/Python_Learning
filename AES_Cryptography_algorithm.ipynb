{
 "cells": [
  {
   "cell_type": "code",
   "execution_count": 1,
   "id": "43ea2253-8aab-45e7-a80f-d5c93e57c898",
   "metadata": {},
   "outputs": [],
   "source": [
    "!pip install -q pycryptodome"
   ]
  },
  {
   "cell_type": "markdown",
   "id": "4989b549-98e5-43a9-bfae-2c195f7f7391",
   "metadata": {},
   "source": [
    "## Importing necessary modules from the Crypto library"
   ]
  },
  {
   "cell_type": "code",
   "execution_count": 1,
   "id": "46e6e44c-3306-46ea-8aa4-d2570d3ea57a",
   "metadata": {},
   "outputs": [],
   "source": [
    "from Crypto.Cipher import AES   # AES is the encryption standard we'll use\n",
    "from Crypto.Random import get_random_bytes   # To generate random keys and initialization vectors (IV)\n",
    "from Crypto.Util.Padding import pad, unpad   # To handle padding of data (AES requires data in blocks of 16 bytes)\n",
    "#Padding is used in a block cipher where we fill up the blocks with padding bytes. "
   ]
  },
  {
   "cell_type": "markdown",
   "id": "f10c0690-87f0-44c9-b728-8c24767b4c91",
   "metadata": {},
   "source": [
    "### Function to encrypt plaintext using AES"
   ]
  },
  {
   "cell_type": "code",
   "execution_count": 2,
   "id": "2fd9a762-b198-452c-aba7-4adbf76b317b",
   "metadata": {},
   "outputs": [],
   "source": [
    "def aes_encrypt(plaintext, key):\n",
    "    # Step 1: Generate a random Initialization Vector (IV) for encryption (16 bytes for AES)\n",
    "   #An initialization vector (IV) is an arbitrary number that can be used with a secret key for data encryption to foil cyber attacks.\n",
    "     iv = get_random_bytes(16) \n",
    "    \n",
    "    # Step 2: Create AES cipher object in Cipher Block Chaining (CBC) mode, using the key and the generated IV\n",
    "    cipher = AES.new(key, AES.MODE_CBC, iv)\n",
    "    \n",
    "    # Step 3: Pad the plaintext to make it a multiple of 16 bytes (AES block size)\n",
    "    # Padding is added to ensure that the data is compatible with AES's block size requirement.\n",
    "    padded_data = pad(plaintext.encode('utf-8'), AES.block_size)\n",
    "    \n",
    "    # Step 4: Encrypt the padded plaintext\n",
    "    ciphertext = cipher.encrypt(padded_data)\n",
    "    \n",
    "    # Return both the ciphertext and IV (needed for decryption)\n",
    "    return ciphertext, iv"
   ]
  },
  {
   "cell_type": "code",
   "execution_count": 3,
   "id": "a31dc033-762d-45df-927e-dbe437d9fe89",
   "metadata": {},
   "outputs": [
    {
     "name": "stdout",
     "output_type": "stream",
     "text": [
      "Ciphertext (in bytes): b'\\xd2v\\xe7\\x01\\xf9eB\\x85\\x84\\xd8\\xe2\\x16\\xb2\\x8c\\x8fz-\\xb5ibK\\x98\\xf2\\xdcz\\xc0\\x92\\xae\\x91\\xce\\xae~'\n"
     ]
    }
   ],
   "source": [
    "# Step 1: Define a secret key (16, 24, or 32 bytes)\n",
    "key = get_random_bytes(16)  # 16 bytes = 128-bit AES encryption key\n",
    "\n",
    "# Step 2: Define the plaintext message to be encrypted\n",
    "plaintext = \"This is a secret message.\"\n",
    "\n",
    "# Step 3: Encrypt the plaintext using AES\n",
    "ciphertext, iv = aes_encrypt(plaintext, key)\n",
    "print(f\"Ciphertext (in bytes): {ciphertext}\")"
   ]
  },
  {
   "cell_type": "markdown",
   "id": "d0b84ae0-5324-42cd-b384-384b7bc10db5",
   "metadata": {},
   "source": [
    "### Function to decrypt ciphertext using AES"
   ]
  },
  {
   "cell_type": "code",
   "execution_count": 4,
   "id": "aac85554-9195-4fe9-9a2d-9f0fa0aea6ff",
   "metadata": {},
   "outputs": [],
   "source": [
    "def aes_decrypt(ciphertext, key, iv):\n",
    "\n",
    "    # Step 1: Create an AES cipher object for decryption, using the key and the same IV\n",
    "    cipher = AES.new(key, AES.MODE_CBC, iv)\n",
    "    \n",
    "    # Step 2: Decrypt the ciphertext\n",
    "    decrypted_padded_data = cipher.decrypt(ciphertext)\n",
    "    \n",
    "    # Step 3: Remove the padding from the decrypted data to get the original plaintext\n",
    "    plaintext = unpad(decrypted_padded_data, AES.block_size)\n",
    "    \n",
    "    # Return the decrypted plaintext\n",
    "    return plaintext.decode('utf-8')"
   ]
  },
  {
   "cell_type": "code",
   "execution_count": 6,
   "id": "39b57c67-09f3-4476-ad63-8dac3c537496",
   "metadata": {},
   "outputs": [
    {
     "name": "stdout",
     "output_type": "stream",
     "text": [
      "Decrypted text: This is a secret message.\n"
     ]
    }
   ],
   "source": [
    "# Step 4: Decrypt the ciphertext to recover the original plaintext\n",
    "decrypted_text = aes_decrypt(ciphertext, key, iv)\n",
    "print(f\"Decrypted text: {decrypted_text}\")"
   ]
  },
  {
   "cell_type": "markdown",
   "id": "2abdde60-50dc-4cc6-bc43-16892ebea7d4",
   "metadata": {},
   "source": [
    "### Reference:\n",
    "\n",
    "1.https://onboardbase.com/blog/aes-encryption-decryption/\n",
    "\n",
    "2.https://pycryptodome.readthedocs.io/en/latest/src/cipher/aes.html\n",
    "\n",
    "3.https://ritwik-69146.medium.com/encrypt-and-decrypt-your-data-using-aes-and-rsa-algorithm-e6a19bc1f29c"
   ]
  },
  {
   "cell_type": "code",
   "execution_count": null,
   "id": "bb818503-7e51-4d73-b007-0e33bc47d23a",
   "metadata": {},
   "outputs": [],
   "source": []
  }
 ],
 "metadata": {
  "kernelspec": {
   "display_name": "Python 3 (ipykernel)",
   "language": "python",
   "name": "python3"
  },
  "language_info": {
   "codemirror_mode": {
    "name": "ipython",
    "version": 3
   },
   "file_extension": ".py",
   "mimetype": "text/x-python",
   "name": "python",
   "nbconvert_exporter": "python",
   "pygments_lexer": "ipython3",
   "version": "3.12.5"
  }
 },
 "nbformat": 4,
 "nbformat_minor": 5
}
